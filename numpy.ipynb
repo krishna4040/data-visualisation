{
  "metadata": {
    "kernelspec": {
      "name": "python",
      "display_name": "Python (Pyodide)",
      "language": "python"
    },
    "language_info": {
      "codemirror_mode": {
        "name": "python",
        "version": 3
      },
      "file_extension": ".py",
      "mimetype": "text/x-python",
      "name": "python",
      "nbconvert_exporter": "python",
      "pygments_lexer": "ipython3",
      "version": "3.8"
    }
  },
  "nbformat_minor": 5,
  "nbformat": 4,
  "cells": [
    {
      "id": "2ce98e3b-4d7a-46b4-8b90-ad4bbf522d4d",
      "cell_type": "code",
      "source": "import numpy as np",
      "metadata": {
        "trusted": true
      },
      "outputs": [],
      "execution_count": 2
    },
    {
      "id": "846ffe8a-5d0b-4a65-a0b5-e20c5c0131ca",
      "cell_type": "code",
      "source": "np.zeros(5)",
      "metadata": {
        "trusted": true
      },
      "outputs": [
        {
          "execution_count": 3,
          "output_type": "execute_result",
          "data": {
            "text/plain": "array([0., 0., 0., 0., 0.])"
          },
          "metadata": {}
        }
      ],
      "execution_count": 3
    },
    {
      "id": "30443567-4e2e-4376-a8e4-fdf5141ea2e2",
      "cell_type": "code",
      "source": "np.ones(5)",
      "metadata": {
        "trusted": true
      },
      "outputs": [
        {
          "execution_count": 4,
          "output_type": "execute_result",
          "data": {
            "text/plain": "array([1., 1., 1., 1., 1.])"
          },
          "metadata": {}
        }
      ],
      "execution_count": 4
    },
    {
      "id": "4700a51a-6af5-45fa-8be8-2cf6b41876d5",
      "cell_type": "code",
      "source": "np.arange(5,15)",
      "metadata": {
        "trusted": true
      },
      "outputs": [
        {
          "execution_count": 5,
          "output_type": "execute_result",
          "data": {
            "text/plain": "array([ 5,  6,  7,  8,  9, 10, 11, 12, 13, 14])"
          },
          "metadata": {}
        }
      ],
      "execution_count": 5
    },
    {
      "id": "eff1f062-1786-49ab-8eaa-24cff04092b2",
      "cell_type": "code",
      "source": "np.arange(4).reshape(2,2)",
      "metadata": {
        "trusted": true
      },
      "outputs": [
        {
          "execution_count": 6,
          "output_type": "execute_result",
          "data": {
            "text/plain": "array([[0, 1],\n       [2, 3]])"
          },
          "metadata": {}
        }
      ],
      "execution_count": 6
    },
    {
      "id": "7db68acc-2b25-41c0-9ed7-7b32453aa12c",
      "cell_type": "code",
      "source": "np.eye(3)",
      "metadata": {
        "trusted": true
      },
      "outputs": [
        {
          "execution_count": 7,
          "output_type": "execute_result",
          "data": {
            "text/plain": "array([[1., 0., 0.],\n       [0., 1., 0.],\n       [0., 0., 1.]])"
          },
          "metadata": {}
        }
      ],
      "execution_count": 7
    },
    {
      "id": "79d9de9c-b4e5-4727-8905-80db8e57583b",
      "cell_type": "code",
      "source": "np.random.randn(10)",
      "metadata": {
        "trusted": true
      },
      "outputs": [
        {
          "execution_count": 8,
          "output_type": "execute_result",
          "data": {
            "text/plain": "array([ 0.4027162 , -1.65540769,  1.24023577, -2.00152293, -1.47077479,\n       -0.77300881,  0.25756292,  1.27214079,  0.96403087,  0.06804853])"
          },
          "metadata": {}
        }
      ],
      "execution_count": 8
    },
    {
      "id": "9b669071-cf21-4c9d-b8b6-45598d5be9c7",
      "cell_type": "code",
      "source": "mat = np.arange(1,17).reshape(4,4)\nmat",
      "metadata": {
        "trusted": true
      },
      "outputs": [
        {
          "execution_count": 9,
          "output_type": "execute_result",
          "data": {
            "text/plain": "array([[ 1,  2,  3,  4],\n       [ 5,  6,  7,  8],\n       [ 9, 10, 11, 12],\n       [13, 14, 15, 16]])"
          },
          "metadata": {}
        }
      ],
      "execution_count": 9
    },
    {
      "id": "1f0561ac-eed4-4896-bc50-f5b267f73f8e",
      "cell_type": "code",
      "source": "",
      "metadata": {
        "trusted": true
      },
      "outputs": [],
      "execution_count": null
    }
  ]
}